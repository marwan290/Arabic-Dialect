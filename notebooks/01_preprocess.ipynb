{
 "cells": [
  {
   "cell_type": "code",
   "execution_count": 16,
   "id": "58b6c096-f2ff-48f8-9270-2fa75f49e870",
   "metadata": {},
   "outputs": [],
   "source": [
    "PATH = r'..\\data\\processed\\01_preprocced.csv'\n",
    "PATH_TO_SAVE = r'..\\data\\processed\\02_preprocced.csv'"
   ]
  },
  {
   "cell_type": "code",
   "execution_count": 5,
   "id": "9e12197b-ccc9-45e1-87c1-dc5b69feb291",
   "metadata": {},
   "outputs": [],
   "source": [
    "import numpy as np\n",
    "import pandas as pd\n",
    "import matplotlib.pyplot as plt\n",
    "import os\n",
    "import string\n",
    "import re\n"
   ]
  },
  {
   "cell_type": "code",
   "execution_count": 10,
   "id": "ace6ef7c-7070-40a9-9bf2-781d9c6a4f5d",
   "metadata": {},
   "outputs": [],
   "source": [
    "df = pd.read_csv(PATH)"
   ]
  },
  {
   "cell_type": "code",
   "execution_count": 6,
   "id": "54968539-aa35-472f-9034-7c6f37915dcb",
   "metadata": {},
   "outputs": [],
   "source": [
    "def normalize_arabic(text):\n",
    "    # text = re.sub(\"[إأآا]\", \"ا\", text)\n",
    "    text = re.sub(\"ى\", \"ي\", text)\n",
    "    text = re.sub(\"ة\", \"ه\", text)\n",
    "    text = re.sub(\"گ\", \"ك\", text)\n",
    "    return text"
   ]
  },
  {
   "cell_type": "code",
   "execution_count": 7,
   "id": "ecee1bb2-23db-4254-9eec-e1e2398688b6",
   "metadata": {},
   "outputs": [
    {
     "data": {
      "text/plain": [
       "' عبد الله'"
      ]
     },
     "execution_count": 7,
     "metadata": {},
     "output_type": "execute_result"
    }
   ],
   "source": [
    "def remove_repeating_char(text):\n",
    "    return re.sub(r'([^ل])\\1+', r'\\1', text)\n",
    "remove_repeating_char(' عبدد الله')"
   ]
  },
  {
   "cell_type": "code",
   "execution_count": 8,
   "id": "e7f1c7da-fe32-42f6-85db-3d0488711d78",
   "metadata": {},
   "outputs": [],
   "source": [
    "def processPost(tweet): \n",
    "\n",
    "    #Replace @username with empty string\n",
    "    tweet = re.sub('@[^\\s]+', ' ', tweet)\n",
    "    \n",
    "    # remove Special Char\n",
    "    tweet= re.sub(r'[`~!@#$%^&*()_|+\\-=?؟،؛;:\\'\",.<>\\{\\}\\[\\]\\\\\\/]', r' ', tweet)\n",
    "\n",
    "\n",
    "    #Replace #word with word\n",
    "    tweet = re.sub(r'#([^\\s]+)', r'\\1', tweet)\n",
    "\n",
    "\n",
    "    #remove English word and number\n",
    "    tweet= re.sub(r'[0-9A-z]+', r' ', tweet)\n",
    "    \n",
    "    # normalize the tweet\n",
    "    tweet= normalize_arabic(tweet)\n",
    "    \n",
    "    # remove repeated letters\n",
    "    tweet=remove_repeating_char(tweet)\n",
    "\n",
    "    #remove emoji\n",
    "    emoji_pattern = re.compile(\"[\"\n",
    "        u\"\\U0001F600-\\U0001F64F\"  # emoticons\n",
    "        u\"\\U0001F300-\\U0001F5FF\"  # symbols & pictographs\n",
    "        u\"\\U0001F680-\\U0001F6FF\"  # transport & map symbols\n",
    "        u\"\\U0001F1E0-\\U0001F1FF\"  # flags (iOS)\n",
    "        u\"٠١٢٣٤٥٦٧٨٩\"   \n",
    "        u\"🤔🤣☺️✨☕️ ♥️👩‍❤️‍💋‍👩\"          #remove arabic number\n",
    "                           \"]+\", flags=re.UNICODE)  \n",
    "    tweet= emoji_pattern.sub(r' ', tweet) # no emoji\n",
    "\n",
    "    #remove extra space\n",
    "    _RE_COMBINE_WHITESPACE = re.compile(r\"(?a:\\s+)\")\n",
    "    _RE_STRIP_WHITESPACE = re.compile(r\"(?a:^\\s+|\\s+$)\")\n",
    "\n",
    "    tweet = _RE_COMBINE_WHITESPACE.sub(\" \", tweet)\n",
    "    tweet = _RE_STRIP_WHITESPACE.sub(\"\", tweet)\n",
    "    # Extract only arabic char\n",
    "    # tweet=re.sub(r'[^\\u0600-\\u06FF]+','',tweet) \n",
    "    \n",
    "    \n",
    "    return tweet"
   ]
  },
  {
   "cell_type": "code",
   "execution_count": 11,
   "id": "d0aa0306-8913-42c5-8116-8ed29de30182",
   "metadata": {},
   "outputs": [],
   "source": [
    "df['tweet_text'] = df['text'].apply(lambda x: processPost(x)) # apply used to call the method processpost\n"
   ]
  },
  {
   "cell_type": "code",
   "execution_count": 12,
   "id": "e9ed8061-daef-43e6-a4e1-82a2ead7c046",
   "metadata": {},
   "outputs": [
    {
     "data": {
      "text/html": [
       "<div>\n",
       "<style scoped>\n",
       "    .dataframe tbody tr th:only-of-type {\n",
       "        vertical-align: middle;\n",
       "    }\n",
       "\n",
       "    .dataframe tbody tr th {\n",
       "        vertical-align: top;\n",
       "    }\n",
       "\n",
       "    .dataframe thead th {\n",
       "        text-align: right;\n",
       "    }\n",
       "</style>\n",
       "<table border=\"1\" class=\"dataframe\">\n",
       "  <thead>\n",
       "    <tr style=\"text-align: right;\">\n",
       "      <th></th>\n",
       "      <th>text</th>\n",
       "      <th>tweet_text</th>\n",
       "      <th>text_len</th>\n",
       "      <th>id</th>\n",
       "    </tr>\n",
       "  </thead>\n",
       "  <tbody>\n",
       "    <tr>\n",
       "      <th>212439</th>\n",
       "      <td>This Tweet from @F_0094 has been withheld in r...</td>\n",
       "      <td></td>\n",
       "      <td>0</td>\n",
       "      <td>1173616403557081088</td>\n",
       "    </tr>\n",
       "    <tr>\n",
       "      <th>98008</th>\n",
       "      <td>@Saedah_Al @Asoom_Shdaifat @alialiassaf2 سائدة...</td>\n",
       "      <td>سائده—سفرجل—سلحفاه—سن—سوريا</td>\n",
       "      <td>1</td>\n",
       "      <td>1052580089026633600</td>\n",
       "    </tr>\n",
       "    <tr>\n",
       "      <th>225540</th>\n",
       "      <td>@3BDes7 #رੁووعــٓــٓــٓــــھَہّৡਃرੁووعــٓــٓــ...</td>\n",
       "      <td>رੁوعـٓـٓـٓـھَہّৡਃرੁوعـٓـٓـٓـھَہ اخوي</td>\n",
       "      <td>2</td>\n",
       "      <td>860957956354998272</td>\n",
       "    </tr>\n",
       "    <tr>\n",
       "      <th>415328</th>\n",
       "      <td>@ALMRISEUL انا🤚بس تعال بوظبي</td>\n",
       "      <td>انا🤚بس تعال بوظبي</td>\n",
       "      <td>3</td>\n",
       "      <td>1134447327610122240</td>\n",
       "    </tr>\n",
       "    <tr>\n",
       "      <th>152789</th>\n",
       "      <td>@JEm4PGJlKPnZR8P صباح الورد@@@ربي يسعددددك</td>\n",
       "      <td>صباح الورد يسعدك</td>\n",
       "      <td>3</td>\n",
       "      <td>960117656912265216</td>\n",
       "    </tr>\n",
       "    <tr>\n",
       "      <th>...</th>\n",
       "      <td>...</td>\n",
       "      <td>...</td>\n",
       "      <td>...</td>\n",
       "      <td>...</td>\n",
       "    </tr>\n",
       "    <tr>\n",
       "      <th>27958</th>\n",
       "      <td>الملك سيبها واسعة في ال69 و مات و معمر حكم 42 ...</td>\n",
       "      <td>الملك سيبها واسعه في ال و مات و معمر حكم سنه و...</td>\n",
       "      <td>65</td>\n",
       "      <td>1029893996682899584</td>\n",
       "    </tr>\n",
       "    <tr>\n",
       "      <th>311764</th>\n",
       "      <td>العهد مش ناجح اكيد ولا بينجح و لا غيرو بينجح\\n...</td>\n",
       "      <td>العهد مش ناجح اكيد ولا بينجح و لا غيرو بينجح ب...</td>\n",
       "      <td>65</td>\n",
       "      <td>1184461063871516672</td>\n",
       "    </tr>\n",
       "    <tr>\n",
       "      <th>146144</th>\n",
       "      <td>اه و يا #غيم_العشوة و يا عذابي نا\\nغيم العشوة ...</td>\n",
       "      <td>اه و يا غيم العشوه و يا عذابي نا غيم العشوه و ...</td>\n",
       "      <td>68</td>\n",
       "      <td>1112059116187459584</td>\n",
       "    </tr>\n",
       "    <tr>\n",
       "      <th>341701</th>\n",
       "      <td>لا تقول حق أحد عن شيء حلو للحين ما صار\\nلا تقو...</td>\n",
       "      <td>لا تقول حق أحد عن شيء حلو للحين ما صار لا تقول...</td>\n",
       "      <td>70</td>\n",
       "      <td>1145208219062677632</td>\n",
       "    </tr>\n",
       "    <tr>\n",
       "      <th>232595</th>\n",
       "      <td>يا رب يا رب يا رب يا رب يا رب يا رب يا رب يا ر...</td>\n",
       "      <td>يا رب يا رب يا رب يا رب يا رب يا رب يا رب يا ر...</td>\n",
       "      <td>88</td>\n",
       "      <td>1152319502333427584</td>\n",
       "    </tr>\n",
       "  </tbody>\n",
       "</table>\n",
       "<p>458197 rows × 4 columns</p>\n",
       "</div>"
      ],
      "text/plain": [
       "                                                     text  \\\n",
       "212439  This Tweet from @F_0094 has been withheld in r...   \n",
       "98008   @Saedah_Al @Asoom_Shdaifat @alialiassaf2 سائدة...   \n",
       "225540  @3BDes7 #رੁووعــٓــٓــٓــــھَہّৡਃرੁووعــٓــٓــ...   \n",
       "415328                       @ALMRISEUL انا🤚بس تعال بوظبي   \n",
       "152789         @JEm4PGJlKPnZR8P صباح الورد@@@ربي يسعددددك   \n",
       "...                                                   ...   \n",
       "27958   الملك سيبها واسعة في ال69 و مات و معمر حكم 42 ...   \n",
       "311764  العهد مش ناجح اكيد ولا بينجح و لا غيرو بينجح\\n...   \n",
       "146144  اه و يا #غيم_العشوة و يا عذابي نا\\nغيم العشوة ...   \n",
       "341701  لا تقول حق أحد عن شيء حلو للحين ما صار\\nلا تقو...   \n",
       "232595  يا رب يا رب يا رب يا رب يا رب يا رب يا رب يا ر...   \n",
       "\n",
       "                                               tweet_text  text_len  \\\n",
       "212439                                                            0   \n",
       "98008                         سائده—سفرجل—سلحفاه—سن—سوريا         1   \n",
       "225540               رੁوعـٓـٓـٓـھَہّৡਃرੁوعـٓـٓـٓـھَہ اخوي         2   \n",
       "415328                                  انا🤚بس تعال بوظبي         3   \n",
       "152789                                   صباح الورد يسعدك         3   \n",
       "...                                                   ...       ...   \n",
       "27958   الملك سيبها واسعه في ال و مات و معمر حكم سنه و...        65   \n",
       "311764  العهد مش ناجح اكيد ولا بينجح و لا غيرو بينجح ب...        65   \n",
       "146144  اه و يا غيم العشوه و يا عذابي نا غيم العشوه و ...        68   \n",
       "341701  لا تقول حق أحد عن شيء حلو للحين ما صار لا تقول...        70   \n",
       "232595  يا رب يا رب يا رب يا رب يا رب يا رب يا رب يا ر...        88   \n",
       "\n",
       "                         id  \n",
       "212439  1173616403557081088  \n",
       "98008   1052580089026633600  \n",
       "225540   860957956354998272  \n",
       "415328  1134447327610122240  \n",
       "152789   960117656912265216  \n",
       "...                     ...  \n",
       "27958   1029893996682899584  \n",
       "311764  1184461063871516672  \n",
       "146144  1112059116187459584  \n",
       "341701  1145208219062677632  \n",
       "232595  1152319502333427584  \n",
       "\n",
       "[458197 rows x 4 columns]"
      ]
     },
     "execution_count": 12,
     "metadata": {},
     "output_type": "execute_result"
    }
   ],
   "source": [
    "df['text_len'] = df['tweet_text'].apply(lambda x: len(x.split()))\n",
    "df.sort_values(by='text_len', ascending= True)[['text','tweet_text','text_len','id']]"
   ]
  },
  {
   "cell_type": "code",
   "execution_count": 13,
   "id": "8e5e2072-a0cb-486a-956f-e4813d9fe870",
   "metadata": {},
   "outputs": [],
   "source": [
    "\n",
    "df.drop(df[df['text_len']<=1].index, inplace = True)\n",
    "df.drop(df[df['id']==1152319502333427584].index, inplace = True)\n"
   ]
  },
  {
   "cell_type": "code",
   "execution_count": 15,
   "id": "2f170d0e-6739-4a81-a38f-f06780b74c48",
   "metadata": {},
   "outputs": [],
   "source": [
    "df.to_csv(PATH_TO_SAVE)"
   ]
  },
  {
   "cell_type": "code",
   "execution_count": null,
   "id": "a0bb1bae-0071-44a3-9a3c-4d24e0a570a0",
   "metadata": {},
   "outputs": [],
   "source": []
  }
 ],
 "metadata": {
  "kernelspec": {
   "display_name": "Python 3",
   "language": "python",
   "name": "python3"
  },
  "language_info": {
   "codemirror_mode": {
    "name": "ipython",
    "version": 3
   },
   "file_extension": ".py",
   "mimetype": "text/x-python",
   "name": "python",
   "nbconvert_exporter": "python",
   "pygments_lexer": "ipython3",
   "version": "3.8.8"
  }
 },
 "nbformat": 4,
 "nbformat_minor": 5
}
